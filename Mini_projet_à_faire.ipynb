{
  "cells": [
    {
      "cell_type": "markdown",
      "metadata": {
        "id": "view-in-github",
        "colab_type": "text"
      },
      "source": [
        "<a href=\"https://colab.research.google.com/github/minonine/webscraping_indeed/blob/main/Mini_projet_%C3%A0_faire.ipynb\" target=\"_parent\"><img src=\"https://colab.research.google.com/assets/colab-badge.svg\" alt=\"Open In Colab\"/></a>"
      ]
    },
    {
      "cell_type": "markdown",
      "id": "bb7e53c6-b538-44d1-8721-267c8e7c8b3f",
      "metadata": {
        "id": "bb7e53c6-b538-44d1-8721-267c8e7c8b3f"
      },
      "source": [
        "# Mini Projet : APACHE SPARK"
      ]
    },
    {
      "cell_type": "code",
      "source": [
        "# innstall java\n",
        "!apt-get install openjdk-8-jdk-headless -qq > /dev/null\n",
        "\n",
        "# install spark (change the version number if needed)\n",
        "!wget -q https://archive.apache.org/dist/spark/spark-3.0.0/spark-3.0.0-bin-hadoop3.2.tgz\n",
        "\n",
        "# unzip the spark file to the current folder\n",
        "!tar xf spark-3.0.0-bin-hadoop3.2.tgz\n",
        "\n",
        "# set your spark folder to your system path environment. \n",
        "import os\n",
        "os.environ[\"JAVA_HOME\"] = \"/usr/lib/jvm/java-8-openjdk-amd64\"\n",
        "os.environ[\"SPARK_HOME\"] = \"/content/spark-3.0.0-bin-hadoop3.2\"\n",
        "\n"
      ],
      "metadata": {
        "id": "Rd91NqfLm_DE"
      },
      "id": "Rd91NqfLm_DE",
      "execution_count": 3,
      "outputs": []
    },
    {
      "cell_type": "code",
      "source": [
        "# install findspark using pip\n",
        "!pip install -q findspark\n",
        "!pip install pyspark"
      ],
      "metadata": {
        "colab": {
          "base_uri": "https://localhost:8080/",
          "height": 0
        },
        "id": "B8oMIdzsnElC",
        "outputId": "7a924bf8-60bb-41ca-dda6-67bb37eb72ce"
      },
      "id": "B8oMIdzsnElC",
      "execution_count": 4,
      "outputs": [
        {
          "output_type": "stream",
          "name": "stdout",
          "text": [
            "Looking in indexes: https://pypi.org/simple, https://us-python.pkg.dev/colab-wheels/public/simple/\n",
            "Collecting pyspark\n",
            "  Downloading pyspark-3.2.1.tar.gz (281.4 MB)\n",
            "\u001b[K     |████████████████████████████████| 281.4 MB 34 kB/s \n",
            "\u001b[?25hCollecting py4j==0.10.9.3\n",
            "  Downloading py4j-0.10.9.3-py2.py3-none-any.whl (198 kB)\n",
            "\u001b[K     |████████████████████████████████| 198 kB 65.9 MB/s \n",
            "\u001b[?25hBuilding wheels for collected packages: pyspark\n",
            "  Building wheel for pyspark (setup.py) ... \u001b[?25l\u001b[?25hdone\n",
            "  Created wheel for pyspark: filename=pyspark-3.2.1-py2.py3-none-any.whl size=281853642 sha256=f77bc79f011b1e7bd1108e8d4c5f0fdcfde358a2118fd38c9d88bfabb9829d36\n",
            "  Stored in directory: /root/.cache/pip/wheels/9f/f5/07/7cd8017084dce4e93e84e92efd1e1d5334db05f2e83bcef74f\n",
            "Successfully built pyspark\n",
            "Installing collected packages: py4j, pyspark\n",
            "Successfully installed py4j-0.10.9.3 pyspark-3.2.1\n"
          ]
        }
      ]
    },
    {
      "cell_type": "markdown",
      "id": "7ee9fa63-dac9-4c69-827d-45d6add41eb4",
      "metadata": {
        "id": "7ee9fa63-dac9-4c69-827d-45d6add41eb4"
      },
      "source": [
        "### 1 - Creation de session"
      ]
    },
    {
      "cell_type": "code",
      "execution_count": 5,
      "id": "7b61eb55-a0e4-4cff-9af5-4250473c2cff",
      "metadata": {
        "id": "7b61eb55-a0e4-4cff-9af5-4250473c2cff"
      },
      "outputs": [],
      "source": [
        "import findspark\n",
        "findspark.init()\n",
        "import pyspark\n",
        "from pyspark.sql import SparkSession"
      ]
    },
    {
      "cell_type": "code",
      "execution_count": 7,
      "id": "47537552-1ee9-4596-a1a0-699690ea6c5d",
      "metadata": {
        "colab": {
          "base_uri": "https://localhost:8080/",
          "height": 219
        },
        "id": "47537552-1ee9-4596-a1a0-699690ea6c5d",
        "outputId": "2a7cddad-2161-4271-bd2c-ebdc59d196fe"
      },
      "outputs": [
        {
          "output_type": "execute_result",
          "data": {
            "text/plain": [
              "<pyspark.sql.session.SparkSession at 0x7eff63805890>"
            ],
            "text/html": [
              "\n",
              "            <div>\n",
              "                <p><b>SparkSession - in-memory</b></p>\n",
              "                \n",
              "        <div>\n",
              "            <p><b>SparkContext</b></p>\n",
              "\n",
              "            <p><a href=\"http://be52ad02f9ce:4040\">Spark UI</a></p>\n",
              "\n",
              "            <dl>\n",
              "              <dt>Version</dt>\n",
              "                <dd><code>v3.0.0</code></dd>\n",
              "              <dt>Master</dt>\n",
              "                <dd><code>local[*]</code></dd>\n",
              "              <dt>AppName</dt>\n",
              "                <dd><code>firstSpark</code></dd>\n",
              "            </dl>\n",
              "        </div>\n",
              "        \n",
              "            </div>\n",
              "        "
            ]
          },
          "metadata": {},
          "execution_count": 7
        }
      ],
      "source": [
        "# import SparkContext\n",
        "# sc = SparkContext(\"local\", \"firstSpark\")\n",
        "spark = SparkSession \\\n",
        "        .builder \\\n",
        "        .appName(\"firstSpark\") \\\n",
        "        .getOrCreate()\n",
        "SparkSession.getActiveSession()"
      ]
    },
    {
      "cell_type": "markdown",
      "id": "766e5514-6fcb-4e17-84ea-c7503a3bd1c3",
      "metadata": {
        "tags": [],
        "id": "766e5514-6fcb-4e17-84ea-c7503a3bd1c3"
      },
      "source": [
        "### 2 - Ingestion du CSV Donors"
      ]
    },
    {
      "cell_type": "code",
      "execution_count": 8,
      "id": "81f973f2-146d-44ee-a203-403b72a79a4d",
      "metadata": {
        "id": "81f973f2-146d-44ee-a203-403b72a79a4d"
      },
      "outputs": [],
      "source": [
        "df_donations = spark.read.format('csv').options(header='true').load('Donations.csv')\n",
        "df_donors = spark.read.format('csv').options(header='true').load('Donors.csv')\n",
        "df_donors2 = spark.read.format('csv').options(header='true').load('Donors.csv')"
      ]
    },
    {
      "cell_type": "markdown",
      "id": "b24c5e09-29b5-4e29-a04e-94a583c821fa",
      "metadata": {
        "id": "b24c5e09-29b5-4e29-a04e-94a583c821fa"
      },
      "source": [
        "### 3 - Affichage\n",
        "Afficher les 20 premières lignes de dataset Donors (Utilisez la fonction show())"
      ]
    },
    {
      "cell_type": "code",
      "execution_count": 9,
      "id": "81d85e39-b38e-4fc9-b923-22605c7cc2da",
      "metadata": {
        "colab": {
          "base_uri": "https://localhost:8080/",
          "height": 0
        },
        "id": "81d85e39-b38e-4fc9-b923-22605c7cc2da",
        "outputId": "a484bff1-e9cd-4966-bc21-92a5f969230e"
      },
      "outputs": [
        {
          "output_type": "stream",
          "name": "stdout",
          "text": [
            "+--------------------+------------+--------------+----------------+---------+\n",
            "|            Donor_ID|  Donor_City|   Donor_State|Donor_Is_Teacher|Donor_Zip|\n",
            "+--------------------+------------+--------------+----------------+---------+\n",
            "|00000ce845c00cbf0...|    Evanston|      Illinois|              No|      602|\n",
            "|00002783bc5d10851...|  Appomattox|         other|              No|      245|\n",
            "|00002d44003ed46b0...|      Winton|    California|             Yes|      953|\n",
            "|00002eb25d60a09c3...|Indianapolis|       Indiana|              No|      462|\n",
            "|0000300773fe015f8...|    Paterson|    New Jersey|              No|      075|\n",
            "|00004c31ce07c2214...|        null|         other|              No|     null|\n",
            "|00004e32a448b4832...|    Stamford|   Connecticut|              No|      069|\n",
            "|00004fa20a986e60a...|   Green Bay|     Wisconsin|              No|      543|\n",
            "|00005454366b6b914...|      Argyle|      New York|              No|      128|\n",
            "|0000584b8cdaeaa6b...|  Valparaiso|       Indiana|              No|      463|\n",
            "|00005f52c98eeaf92...|   Villanova|  Pennsylvania|              No|      190|\n",
            "|00006084c3d92d904...|       Brick|    New Jersey|             Yes|      087|\n",
            "|00006c6b8c3225a54...|  Wilmington|      Delaware|              No|      198|\n",
            "|0000812bd5629117f...|    Pasadena|         Texas|              No|      775|\n",
            "|0000889adf4cc958a...|Mohegan Lake|      New York|              No|      105|\n",
            "|00008eec5aab22286...|    Old Fort|North Carolina|              No|      287|\n",
            "|0000954e7c49ebfbc...|      Quincy|      Illinois|              No|      623|\n",
            "|0000a1288b8ccdeaa...|        null|         other|              No|     null|\n",
            "|0000a2175753bc165...|Grand Rapids|      Michigan|              No|      495|\n",
            "|0000a3fd8b8a3d1a9...|   Lancaster|  Pennsylvania|              No|      176|\n",
            "+--------------------+------------+--------------+----------------+---------+\n",
            "only showing top 20 rows\n",
            "\n"
          ]
        }
      ],
      "source": [
        "df_donors.show()"
      ]
    },
    {
      "cell_type": "markdown",
      "id": "18371af8",
      "metadata": {
        "id": "18371af8"
      },
      "source": [
        "Conversion en dataframe pandas (utilisez la fonction \"toPandas()\")"
      ]
    },
    {
      "cell_type": "code",
      "execution_count": 10,
      "id": "48600a4b",
      "metadata": {
        "colab": {
          "base_uri": "https://localhost:8080/",
          "height": 424
        },
        "id": "48600a4b",
        "outputId": "d0f0e00e-1fcb-49a5-fa97-2a89e513adf9"
      },
      "outputs": [
        {
          "output_type": "execute_result",
          "data": {
            "text/plain": [
              "                                 Donor_ID      Donor_City     Donor_State  \\\n",
              "0        00000ce845c00cbf0686c992fc369df4        Evanston        Illinois   \n",
              "1        00002783bc5d108510f3f9666c8b1edd      Appomattox           other   \n",
              "2        00002d44003ed46b066607c5455a999a          Winton      California   \n",
              "3        00002eb25d60a09c318efbd0797bffb5    Indianapolis         Indiana   \n",
              "4        0000300773fe015f870914b42528541b        Paterson      New Jersey   \n",
              "...                                   ...             ...             ...   \n",
              "1048570  7e60d56f25337e420790991868376fdd  Salt Lake City            Utah   \n",
              "1048571  7e60e11156fdfa691825a2b10abc17cf          Dayton            Ohio   \n",
              "1048572  7e60f789db33462daf34ab795c4d70fe         Phoenix         Arizona   \n",
              "1048573  7e610c8ed745f8307edf0c4257e1a455           Greer  South Carolina   \n",
              "1048574  7e611e9b99deee6d534999f23ddf7fd2          Belton           Texas   \n",
              "\n",
              "        Donor_Is_Teacher Donor_Zip  \n",
              "0                     No       602  \n",
              "1                     No       245  \n",
              "2                    Yes       953  \n",
              "3                     No       462  \n",
              "4                     No       075  \n",
              "...                  ...       ...  \n",
              "1048570               No       841  \n",
              "1048571               No       454  \n",
              "1048572               No       850  \n",
              "1048573               No       296  \n",
              "1048574               No       765  \n",
              "\n",
              "[1048575 rows x 5 columns]"
            ],
            "text/html": [
              "\n",
              "  <div id=\"df-3705c924-c26d-44f1-b5bf-8b14423fe15b\">\n",
              "    <div class=\"colab-df-container\">\n",
              "      <div>\n",
              "<style scoped>\n",
              "    .dataframe tbody tr th:only-of-type {\n",
              "        vertical-align: middle;\n",
              "    }\n",
              "\n",
              "    .dataframe tbody tr th {\n",
              "        vertical-align: top;\n",
              "    }\n",
              "\n",
              "    .dataframe thead th {\n",
              "        text-align: right;\n",
              "    }\n",
              "</style>\n",
              "<table border=\"1\" class=\"dataframe\">\n",
              "  <thead>\n",
              "    <tr style=\"text-align: right;\">\n",
              "      <th></th>\n",
              "      <th>Donor_ID</th>\n",
              "      <th>Donor_City</th>\n",
              "      <th>Donor_State</th>\n",
              "      <th>Donor_Is_Teacher</th>\n",
              "      <th>Donor_Zip</th>\n",
              "    </tr>\n",
              "  </thead>\n",
              "  <tbody>\n",
              "    <tr>\n",
              "      <th>0</th>\n",
              "      <td>00000ce845c00cbf0686c992fc369df4</td>\n",
              "      <td>Evanston</td>\n",
              "      <td>Illinois</td>\n",
              "      <td>No</td>\n",
              "      <td>602</td>\n",
              "    </tr>\n",
              "    <tr>\n",
              "      <th>1</th>\n",
              "      <td>00002783bc5d108510f3f9666c8b1edd</td>\n",
              "      <td>Appomattox</td>\n",
              "      <td>other</td>\n",
              "      <td>No</td>\n",
              "      <td>245</td>\n",
              "    </tr>\n",
              "    <tr>\n",
              "      <th>2</th>\n",
              "      <td>00002d44003ed46b066607c5455a999a</td>\n",
              "      <td>Winton</td>\n",
              "      <td>California</td>\n",
              "      <td>Yes</td>\n",
              "      <td>953</td>\n",
              "    </tr>\n",
              "    <tr>\n",
              "      <th>3</th>\n",
              "      <td>00002eb25d60a09c318efbd0797bffb5</td>\n",
              "      <td>Indianapolis</td>\n",
              "      <td>Indiana</td>\n",
              "      <td>No</td>\n",
              "      <td>462</td>\n",
              "    </tr>\n",
              "    <tr>\n",
              "      <th>4</th>\n",
              "      <td>0000300773fe015f870914b42528541b</td>\n",
              "      <td>Paterson</td>\n",
              "      <td>New Jersey</td>\n",
              "      <td>No</td>\n",
              "      <td>075</td>\n",
              "    </tr>\n",
              "    <tr>\n",
              "      <th>...</th>\n",
              "      <td>...</td>\n",
              "      <td>...</td>\n",
              "      <td>...</td>\n",
              "      <td>...</td>\n",
              "      <td>...</td>\n",
              "    </tr>\n",
              "    <tr>\n",
              "      <th>1048570</th>\n",
              "      <td>7e60d56f25337e420790991868376fdd</td>\n",
              "      <td>Salt Lake City</td>\n",
              "      <td>Utah</td>\n",
              "      <td>No</td>\n",
              "      <td>841</td>\n",
              "    </tr>\n",
              "    <tr>\n",
              "      <th>1048571</th>\n",
              "      <td>7e60e11156fdfa691825a2b10abc17cf</td>\n",
              "      <td>Dayton</td>\n",
              "      <td>Ohio</td>\n",
              "      <td>No</td>\n",
              "      <td>454</td>\n",
              "    </tr>\n",
              "    <tr>\n",
              "      <th>1048572</th>\n",
              "      <td>7e60f789db33462daf34ab795c4d70fe</td>\n",
              "      <td>Phoenix</td>\n",
              "      <td>Arizona</td>\n",
              "      <td>No</td>\n",
              "      <td>850</td>\n",
              "    </tr>\n",
              "    <tr>\n",
              "      <th>1048573</th>\n",
              "      <td>7e610c8ed745f8307edf0c4257e1a455</td>\n",
              "      <td>Greer</td>\n",
              "      <td>South Carolina</td>\n",
              "      <td>No</td>\n",
              "      <td>296</td>\n",
              "    </tr>\n",
              "    <tr>\n",
              "      <th>1048574</th>\n",
              "      <td>7e611e9b99deee6d534999f23ddf7fd2</td>\n",
              "      <td>Belton</td>\n",
              "      <td>Texas</td>\n",
              "      <td>No</td>\n",
              "      <td>765</td>\n",
              "    </tr>\n",
              "  </tbody>\n",
              "</table>\n",
              "<p>1048575 rows × 5 columns</p>\n",
              "</div>\n",
              "      <button class=\"colab-df-convert\" onclick=\"convertToInteractive('df-3705c924-c26d-44f1-b5bf-8b14423fe15b')\"\n",
              "              title=\"Convert this dataframe to an interactive table.\"\n",
              "              style=\"display:none;\">\n",
              "        \n",
              "  <svg xmlns=\"http://www.w3.org/2000/svg\" height=\"24px\"viewBox=\"0 0 24 24\"\n",
              "       width=\"24px\">\n",
              "    <path d=\"M0 0h24v24H0V0z\" fill=\"none\"/>\n",
              "    <path d=\"M18.56 5.44l.94 2.06.94-2.06 2.06-.94-2.06-.94-.94-2.06-.94 2.06-2.06.94zm-11 1L8.5 8.5l.94-2.06 2.06-.94-2.06-.94L8.5 2.5l-.94 2.06-2.06.94zm10 10l.94 2.06.94-2.06 2.06-.94-2.06-.94-.94-2.06-.94 2.06-2.06.94z\"/><path d=\"M17.41 7.96l-1.37-1.37c-.4-.4-.92-.59-1.43-.59-.52 0-1.04.2-1.43.59L10.3 9.45l-7.72 7.72c-.78.78-.78 2.05 0 2.83L4 21.41c.39.39.9.59 1.41.59.51 0 1.02-.2 1.41-.59l7.78-7.78 2.81-2.81c.8-.78.8-2.07 0-2.86zM5.41 20L4 18.59l7.72-7.72 1.47 1.35L5.41 20z\"/>\n",
              "  </svg>\n",
              "      </button>\n",
              "      \n",
              "  <style>\n",
              "    .colab-df-container {\n",
              "      display:flex;\n",
              "      flex-wrap:wrap;\n",
              "      gap: 12px;\n",
              "    }\n",
              "\n",
              "    .colab-df-convert {\n",
              "      background-color: #E8F0FE;\n",
              "      border: none;\n",
              "      border-radius: 50%;\n",
              "      cursor: pointer;\n",
              "      display: none;\n",
              "      fill: #1967D2;\n",
              "      height: 32px;\n",
              "      padding: 0 0 0 0;\n",
              "      width: 32px;\n",
              "    }\n",
              "\n",
              "    .colab-df-convert:hover {\n",
              "      background-color: #E2EBFA;\n",
              "      box-shadow: 0px 1px 2px rgba(60, 64, 67, 0.3), 0px 1px 3px 1px rgba(60, 64, 67, 0.15);\n",
              "      fill: #174EA6;\n",
              "    }\n",
              "\n",
              "    [theme=dark] .colab-df-convert {\n",
              "      background-color: #3B4455;\n",
              "      fill: #D2E3FC;\n",
              "    }\n",
              "\n",
              "    [theme=dark] .colab-df-convert:hover {\n",
              "      background-color: #434B5C;\n",
              "      box-shadow: 0px 1px 3px 1px rgba(0, 0, 0, 0.15);\n",
              "      filter: drop-shadow(0px 1px 2px rgba(0, 0, 0, 0.3));\n",
              "      fill: #FFFFFF;\n",
              "    }\n",
              "  </style>\n",
              "\n",
              "      <script>\n",
              "        const buttonEl =\n",
              "          document.querySelector('#df-3705c924-c26d-44f1-b5bf-8b14423fe15b button.colab-df-convert');\n",
              "        buttonEl.style.display =\n",
              "          google.colab.kernel.accessAllowed ? 'block' : 'none';\n",
              "\n",
              "        async function convertToInteractive(key) {\n",
              "          const element = document.querySelector('#df-3705c924-c26d-44f1-b5bf-8b14423fe15b');\n",
              "          const dataTable =\n",
              "            await google.colab.kernel.invokeFunction('convertToInteractive',\n",
              "                                                     [key], {});\n",
              "          if (!dataTable) return;\n",
              "\n",
              "          const docLinkHtml = 'Like what you see? Visit the ' +\n",
              "            '<a target=\"_blank\" href=https://colab.research.google.com/notebooks/data_table.ipynb>data table notebook</a>'\n",
              "            + ' to learn more about interactive tables.';\n",
              "          element.innerHTML = '';\n",
              "          dataTable['output_type'] = 'display_data';\n",
              "          await google.colab.output.renderOutput(dataTable, element);\n",
              "          const docLink = document.createElement('div');\n",
              "          docLink.innerHTML = docLinkHtml;\n",
              "          element.appendChild(docLink);\n",
              "        }\n",
              "      </script>\n",
              "    </div>\n",
              "  </div>\n",
              "  "
            ]
          },
          "metadata": {},
          "execution_count": 10
        }
      ],
      "source": [
        "df_donors.toPandas()"
      ]
    },
    {
      "cell_type": "markdown",
      "id": "a7643ee7",
      "metadata": {
        "id": "a7643ee7"
      },
      "source": [
        "Trouver le nombre nul dans chaque colonne"
      ]
    },
    {
      "cell_type": "code",
      "execution_count": 12,
      "id": "ae8fb6fd",
      "metadata": {
        "colab": {
          "base_uri": "https://localhost:8080/",
          "height": 0
        },
        "id": "ae8fb6fd",
        "outputId": "53c48335-af4c-4d9f-d2ab-bda2aa2aab16"
      },
      "outputs": [
        {
          "output_type": "stream",
          "name": "stdout",
          "text": [
            "+--------+----------+-----------+----------------+---------+\n",
            "|Donor_ID|Donor_City|Donor_State|Donor_Is_Teacher|Donor_Zip|\n",
            "+--------+----------+-----------+----------------+---------+\n",
            "|       0|         0|          0|               0|        0|\n",
            "+--------+----------+-----------+----------------+---------+\n",
            "\n"
          ]
        },
        {
          "output_type": "execute_result",
          "data": {
            "text/plain": [
              "[0, 105086, 0, 0, 88694]"
            ]
          },
          "metadata": {},
          "execution_count": 12
        }
      ],
      "source": [
        "from pyspark.sql.types import *\n",
        "from pyspark.sql.functions import *\n",
        "\n",
        "df_donors.select([count(when(isnan(column), column)).alias(column) for column in df_donors.columns]).show()\n",
        "[df_donors.filter(col(column).isNull()).count() for column in df_donors.columns]"
      ]
    },
    {
      "cell_type": "markdown",
      "id": "c5195e9b",
      "metadata": {
        "id": "c5195e9b"
      },
      "source": [
        "Imprimer le schéma de dataset (pour imprimer le schéma, on utilise la fonction \"printSchema\")"
      ]
    },
    {
      "cell_type": "code",
      "execution_count": 13,
      "id": "a8eb3a73",
      "metadata": {
        "colab": {
          "base_uri": "https://localhost:8080/",
          "height": 0
        },
        "id": "a8eb3a73",
        "outputId": "39267ddf-56a5-43c6-8647-e54d7b375c12"
      },
      "outputs": [
        {
          "output_type": "stream",
          "name": "stdout",
          "text": [
            "root\n",
            " |-- Donor_ID: string (nullable = true)\n",
            " |-- Donor_City: string (nullable = true)\n",
            " |-- Donor_State: string (nullable = true)\n",
            " |-- Donor_Is_Teacher: string (nullable = true)\n",
            " |-- Donor_Zip: string (nullable = true)\n",
            "\n"
          ]
        }
      ],
      "source": [
        "df_donors.printSchema()"
      ]
    },
    {
      "cell_type": "markdown",
      "id": "ca598ae3-7513-4094-9ccc-c5a8de261e4c",
      "metadata": {
        "tags": [],
        "id": "ca598ae3-7513-4094-9ccc-c5a8de261e4c"
      },
      "source": [
        "### 4 - Filtrage"
      ]
    },
    {
      "cell_type": "markdown",
      "id": "65c2032e-0d50-405d-84bb-8f00630d6702",
      "metadata": {
        "id": "65c2032e-0d50-405d-84bb-8f00630d6702"
      },
      "source": [
        "#### Laissez que les enregistrement dont Donor City commence par A\n",
        "\n",
        "Vous pouvez utiliser la fonction \"filter\" \n",
        " \n",
        "Exemple :  \"My_data.filter(My_data.name_colonne.like(\"A%\"))\"\n",
        "\n",
        "Like(\"A%\") : le caractère \"%\" est un caractère joker qui remplace tous les autres caractères. Ainsi, ce modèle permet de rechercher toutes les chaines de caractère qui commence par un \"A\"."
      ]
    },
    {
      "cell_type": "code",
      "execution_count": 14,
      "id": "81ddf953",
      "metadata": {
        "id": "81ddf953"
      },
      "outputs": [],
      "source": [
        "import pandas as pd\n",
        "start_with_A=pd.DataFrame(df_donors.filter(df_donors['Donor_City'].startswith('A')).collect())\n",
        "df=df_donors.filter(df_donors.Donor_City.like(\"A%\"))"
      ]
    },
    {
      "cell_type": "markdown",
      "id": "7ae4e319-378f-402d-8b29-f4279773a47e",
      "metadata": {
        "tags": [],
        "id": "7ae4e319-378f-402d-8b29-f4279773a47e"
      },
      "source": [
        "#### Affichez les résultats"
      ]
    },
    {
      "cell_type": "code",
      "execution_count": 15,
      "id": "3fc87234-fa4e-48ed-98b0-b9a2f0b80aa2",
      "metadata": {
        "colab": {
          "base_uri": "https://localhost:8080/",
          "height": 0
        },
        "id": "3fc87234-fa4e-48ed-98b0-b9a2f0b80aa2",
        "outputId": "e027e4e6-ee2f-492b-96c3-bcfe220364d7"
      },
      "outputs": [
        {
          "output_type": "stream",
          "name": "stdout",
          "text": [
            "+--------------------+-------------+-------------+----------------+---------+\n",
            "|            Donor_ID|   Donor_City|  Donor_State|Donor_Is_Teacher|Donor_Zip|\n",
            "+--------------------+-------------+-------------+----------------+---------+\n",
            "|00002783bc5d10851...|   Appomattox|        other|              No|      245|\n",
            "|00005454366b6b914...|       Argyle|     New York|              No|      128|\n",
            "|0001ef9f64a7e1038...|         Ames|         Iowa|              No|      500|\n",
            "|00024e86676fc2c3b...|    Ann Arbor|     Michigan|              No|      481|\n",
            "|0002a45d0b45a78e9...|    Ann Arbor|     Michigan|              No|      481|\n",
            "|0002cb56c84b1cba7...|         Avon|  Connecticut|              No|      060|\n",
            "|00050297e37eb7632...|       Austin|        Texas|              No|      787|\n",
            "|0005327bfe18229b9...|        Acton|   California|              No|      935|\n",
            "|00054f4b278af0c8d...|American Fork|         Utah|              No|      840|\n",
            "|00055ed4f4745e71d...|  Albuquerque|   New Mexico|              No|      871|\n",
            "|000581cf61255745a...|       Ankeny|         Iowa|              No|      500|\n",
            "|000583fdc4983283e...|       Agawam|Massachusetts|              No|      010|\n",
            "|00072a3616151a38a...|      Atlanta|        Texas|              No|      303|\n",
            "|00086e4e19e80f3f1...|       Albany|     New York|              No|      122|\n",
            "|0008ebb089883290a...|         Avon|      Indiana|              No|      461|\n",
            "|0008f2f55a3af2432...|   Alexandria|     Virginia|             Yes|      223|\n",
            "|0008ff59ba832f21a...|   Atascadero|   California|              No|      934|\n",
            "|000b625c3ba612734...|          Ava|     Illinois|              No|      629|\n",
            "|000bb57e7995b68d0...|      Anaheim|   California|              No|      928|\n",
            "|000bba7748e9b7011...|      Allegan|     Michigan|              No|      490|\n",
            "+--------------------+-------------+-------------+----------------+---------+\n",
            "only showing top 20 rows\n",
            "\n"
          ]
        }
      ],
      "source": [
        "type(df_donors)\n",
        "df.show()"
      ]
    },
    {
      "cell_type": "markdown",
      "id": "049d037a-231c-40f2-87af-e71f2c548e1b",
      "metadata": {
        "id": "049d037a-231c-40f2-87af-e71f2c548e1b"
      },
      "source": [
        "## 5 - Transformation"
      ]
    },
    {
      "cell_type": "markdown",
      "id": "a75cd3e9-4596-4cc0-8946-361069da1d5e",
      "metadata": {
        "id": "a75cd3e9-4596-4cc0-8946-361069da1d5e"
      },
      "source": [
        "#### Construisez une nouvelle colonne `Address` en faisant une concaténation `Donor_City, Donor_State, Donor_Zip`"
      ]
    },
    {
      "cell_type": "code",
      "execution_count": 16,
      "id": "6923595e-0b8f-46f7-a9f0-de1cebb1ab1c",
      "metadata": {
        "id": "6923595e-0b8f-46f7-a9f0-de1cebb1ab1c"
      },
      "outputs": [],
      "source": [
        "from pyspark.sql.functions import concat_ws"
      ]
    },
    {
      "cell_type": "markdown",
      "id": "b3f28eb8",
      "metadata": {
        "id": "b3f28eb8"
      },
      "source": [
        "Vous pouvez utiliser la fonction \"withColumn\" et \"concat_ws\" "
      ]
    },
    {
      "cell_type": "code",
      "execution_count": 17,
      "id": "1cfa5cfc-9f05-4743-80aa-e7d9e264125d",
      "metadata": {
        "id": "1cfa5cfc-9f05-4743-80aa-e7d9e264125d"
      },
      "outputs": [],
      "source": [
        "from pyspark.sql import functions as sf\n",
        "df_donors = df_donors.withColumn('Address ', \n",
        "                    sf.concat(sf.col('Donor_City'),sf.lit('_'), sf.col('Donor_State'),sf.lit('_'), sf.col('Donor_Zip')))\n",
        "\n"
      ]
    },
    {
      "cell_type": "markdown",
      "id": "d51bc097-4a95-4c44-921d-2663cc201812",
      "metadata": {
        "id": "d51bc097-4a95-4c44-921d-2663cc201812"
      },
      "source": [
        "Afficher les résultats"
      ]
    },
    {
      "cell_type": "code",
      "execution_count": 18,
      "id": "d0b72947-e1b6-4d88-b278-04d57b603915",
      "metadata": {
        "colab": {
          "base_uri": "https://localhost:8080/",
          "height": 0
        },
        "id": "d0b72947-e1b6-4d88-b278-04d57b603915",
        "outputId": "1f2d503d-4860-4349-d1ba-89d5b0f6402b"
      },
      "outputs": [
        {
          "output_type": "stream",
          "name": "stdout",
          "text": [
            "+--------------------+------------+--------------+----------------+---------+--------------------+\n",
            "|            Donor_ID|  Donor_City|   Donor_State|Donor_Is_Teacher|Donor_Zip|            Address |\n",
            "+--------------------+------------+--------------+----------------+---------+--------------------+\n",
            "|00000ce845c00cbf0...|    Evanston|      Illinois|              No|      602|Evanston_Illinois...|\n",
            "|00002783bc5d10851...|  Appomattox|         other|              No|      245|Appomattox_other_245|\n",
            "|00002d44003ed46b0...|      Winton|    California|             Yes|      953|Winton_California...|\n",
            "|00002eb25d60a09c3...|Indianapolis|       Indiana|              No|      462|Indianapolis_Indi...|\n",
            "|0000300773fe015f8...|    Paterson|    New Jersey|              No|      075|Paterson_New Jers...|\n",
            "|00004c31ce07c2214...|        null|         other|              No|     null|                null|\n",
            "|00004e32a448b4832...|    Stamford|   Connecticut|              No|      069|Stamford_Connecti...|\n",
            "|00004fa20a986e60a...|   Green Bay|     Wisconsin|              No|      543|Green Bay_Wiscons...|\n",
            "|00005454366b6b914...|      Argyle|      New York|              No|      128| Argyle_New York_128|\n",
            "|0000584b8cdaeaa6b...|  Valparaiso|       Indiana|              No|      463|Valparaiso_Indian...|\n",
            "|00005f52c98eeaf92...|   Villanova|  Pennsylvania|              No|      190|Villanova_Pennsyl...|\n",
            "|00006084c3d92d904...|       Brick|    New Jersey|             Yes|      087|Brick_New Jersey_087|\n",
            "|00006c6b8c3225a54...|  Wilmington|      Delaware|              No|      198|Wilmington_Delawa...|\n",
            "|0000812bd5629117f...|    Pasadena|         Texas|              No|      775|  Pasadena_Texas_775|\n",
            "|0000889adf4cc958a...|Mohegan Lake|      New York|              No|      105|Mohegan Lake_New ...|\n",
            "|00008eec5aab22286...|    Old Fort|North Carolina|              No|      287|Old Fort_North Ca...|\n",
            "|0000954e7c49ebfbc...|      Quincy|      Illinois|              No|      623| Quincy_Illinois_623|\n",
            "|0000a1288b8ccdeaa...|        null|         other|              No|     null|                null|\n",
            "|0000a2175753bc165...|Grand Rapids|      Michigan|              No|      495|Grand Rapids_Mich...|\n",
            "|0000a3fd8b8a3d1a9...|   Lancaster|  Pennsylvania|              No|      176|Lancaster_Pennsyl...|\n",
            "+--------------------+------------+--------------+----------------+---------+--------------------+\n",
            "only showing top 20 rows\n",
            "\n"
          ]
        }
      ],
      "source": [
        "df_donors.show()"
      ]
    },
    {
      "cell_type": "markdown",
      "id": "98bba8d7-a049-43b2-99b0-593d2b9f5a5f",
      "metadata": {
        "id": "98bba8d7-a049-43b2-99b0-593d2b9f5a5f"
      },
      "source": [
        "## 6 - Moteur SQL"
      ]
    },
    {
      "cell_type": "markdown",
      "id": "5621c458-6f8e-48d7-96e1-9f0d0e21d95b",
      "metadata": {
        "id": "5621c458-6f8e-48d7-96e1-9f0d0e21d95b"
      },
      "source": [
        "#### Persister le dataset de départ comme une Temporary View\n",
        "Vous pouvez utliser la fcontion createOrReplaceTempView"
      ]
    },
    {
      "cell_type": "code",
      "execution_count": 19,
      "id": "71d65406-80eb-4d9c-8e78-b676ba9cb2aa",
      "metadata": {
        "colab": {
          "base_uri": "https://localhost:8080/",
          "height": 0
        },
        "id": "71d65406-80eb-4d9c-8e78-b676ba9cb2aa",
        "outputId": "f18daa76-c805-40b1-a97c-e46d55b41a96"
      },
      "outputs": [
        {
          "output_type": "stream",
          "name": "stdout",
          "text": [
            "+--------------------+------------+--------------+----------------+---------+--------------------+\n",
            "|            Donor_ID|  Donor_City|   Donor_State|Donor_Is_Teacher|Donor_Zip|            Address |\n",
            "+--------------------+------------+--------------+----------------+---------+--------------------+\n",
            "|00000ce845c00cbf0...|    Evanston|      Illinois|              No|      602|Evanston_Illinois...|\n",
            "|00002783bc5d10851...|  Appomattox|         other|              No|      245|Appomattox_other_245|\n",
            "|00002d44003ed46b0...|      Winton|    California|             Yes|      953|Winton_California...|\n",
            "|00002eb25d60a09c3...|Indianapolis|       Indiana|              No|      462|Indianapolis_Indi...|\n",
            "|0000300773fe015f8...|    Paterson|    New Jersey|              No|      075|Paterson_New Jers...|\n",
            "|00004c31ce07c2214...|        null|         other|              No|     null|                null|\n",
            "|00004e32a448b4832...|    Stamford|   Connecticut|              No|      069|Stamford_Connecti...|\n",
            "|00004fa20a986e60a...|   Green Bay|     Wisconsin|              No|      543|Green Bay_Wiscons...|\n",
            "|00005454366b6b914...|      Argyle|      New York|              No|      128| Argyle_New York_128|\n",
            "|0000584b8cdaeaa6b...|  Valparaiso|       Indiana|              No|      463|Valparaiso_Indian...|\n",
            "|00005f52c98eeaf92...|   Villanova|  Pennsylvania|              No|      190|Villanova_Pennsyl...|\n",
            "|00006084c3d92d904...|       Brick|    New Jersey|             Yes|      087|Brick_New Jersey_087|\n",
            "|00006c6b8c3225a54...|  Wilmington|      Delaware|              No|      198|Wilmington_Delawa...|\n",
            "|0000812bd5629117f...|    Pasadena|         Texas|              No|      775|  Pasadena_Texas_775|\n",
            "|0000889adf4cc958a...|Mohegan Lake|      New York|              No|      105|Mohegan Lake_New ...|\n",
            "|00008eec5aab22286...|    Old Fort|North Carolina|              No|      287|Old Fort_North Ca...|\n",
            "|0000954e7c49ebfbc...|      Quincy|      Illinois|              No|      623| Quincy_Illinois_623|\n",
            "|0000a1288b8ccdeaa...|        null|         other|              No|     null|                null|\n",
            "|0000a2175753bc165...|Grand Rapids|      Michigan|              No|      495|Grand Rapids_Mich...|\n",
            "|0000a3fd8b8a3d1a9...|   Lancaster|  Pennsylvania|              No|      176|Lancaster_Pennsyl...|\n",
            "+--------------------+------------+--------------+----------------+---------+--------------------+\n",
            "only showing top 20 rows\n",
            "\n"
          ]
        }
      ],
      "source": [
        "df_donors.createOrReplaceTempView(\"donors\")\n",
        "result = spark.sql(\"\"\" select * from donors \"\"\")\n",
        "result.show()"
      ]
    },
    {
      "cell_type": "markdown",
      "id": "dd1affb0-8e16-4306-b286-94e642a82b06",
      "metadata": {
        "id": "dd1affb0-8e16-4306-b286-94e642a82b06"
      },
      "source": [
        "#### Comptez le nombre de professeurs ayant participé à la donation\n",
        "\n",
        "Vous pouvez utiliser la fonction count() et le langage SQL"
      ]
    },
    {
      "cell_type": "code",
      "execution_count": 20,
      "id": "f60bb2ca-4246-4587-9035-1de2384ac69d",
      "metadata": {
        "colab": {
          "base_uri": "https://localhost:8080/",
          "height": 0
        },
        "id": "f60bb2ca-4246-4587-9035-1de2384ac69d",
        "outputId": "09dcf01f-be8a-41c6-92f0-74d49a8f6874"
      },
      "outputs": [
        {
          "output_type": "stream",
          "name": "stdout",
          "text": [
            "+--------+\n",
            "|count(1)|\n",
            "+--------+\n",
            "|  104650|\n",
            "+--------+\n",
            "\n"
          ]
        }
      ],
      "source": [
        "result = spark.sql(\"\"\" select count(*) from donors Where Donor_Is_Teacher='Yes' \"\"\")\n",
        "result.show()"
      ]
    },
    {
      "cell_type": "markdown",
      "id": "acebc536-0504-4ab2-aae6-856f31f996af",
      "metadata": {
        "id": "acebc536-0504-4ab2-aae6-856f31f996af"
      },
      "source": [
        "utiliser juste 10% du dataset c'est très grand complet pour des jointures pour votre petite machine... avec la method `sample`"
      ]
    },
    {
      "cell_type": "code",
      "execution_count": 22,
      "id": "2363f5c1-c9d6-4230-b143-ea1e27d9065e",
      "metadata": {
        "colab": {
          "base_uri": "https://localhost:8080/",
          "height": 0
        },
        "id": "2363f5c1-c9d6-4230-b143-ea1e27d9065e",
        "outputId": "6cff15fd-c065-45d5-8d73-510c242178e3"
      },
      "outputs": [
        {
          "output_type": "stream",
          "name": "stdout",
          "text": [
            "+--------------------+\n",
            "|            Donor_ID|\n",
            "+--------------------+\n",
            "|0000c4be79d9f9248...|\n",
            "|0001415ef50c0f45d...|\n",
            "|000150db429aff026...|\n",
            "|00015a61076990002...|\n",
            "|00016d53aafa42950...|\n",
            "|000177bef7ed7b7d1...|\n",
            "|0002128c613edd04b...|\n",
            "|0002348747db8f7fc...|\n",
            "|0002965240b13a26f...|\n",
            "|0003982f3e5d7e11e...|\n",
            "|0004022cc26b79c37...|\n",
            "|0004265c44e425d71...|\n",
            "|000446688c194fc58...|\n",
            "|00049338d2a420cd9...|\n",
            "|0004c11d84e7e1fc8...|\n",
            "|0004f42bf17585076...|\n",
            "|00050511b93260bed...|\n",
            "|0005217360eaad75d...|\n",
            "|0005f200ba504e18b...|\n",
            "|00061145ab79728ae...|\n",
            "+--------------------+\n",
            "only showing top 20 rows\n",
            "\n"
          ]
        }
      ],
      "source": [
        "df_e = df_donors.sample(fraction=0.1, seed=3)\n",
        "df_e.createOrReplaceTempView(\"donor\")\n",
        "result = spark.sql(\"\"\" select Donor_ID from donor \"\"\")\n",
        "result.show()"
      ]
    },
    {
      "cell_type": "markdown",
      "id": "32e29ed3-1664-4db1-92b1-adf77e562573",
      "metadata": {
        "id": "32e29ed3-1664-4db1-92b1-adf77e562573"
      },
      "source": [
        "#### Afficher que les id des donateurs qui habite à California"
      ]
    },
    {
      "cell_type": "markdown",
      "id": "1474a64a",
      "metadata": {
        "id": "1474a64a"
      },
      "source": [
        "Vous pouvez utiliser le langage SQL qu'on vu dans le TP 5 suivant select col_x from donors where col_y =\"California"
      ]
    },
    {
      "cell_type": "code",
      "execution_count": 23,
      "id": "6cf60b3b",
      "metadata": {
        "colab": {
          "base_uri": "https://localhost:8080/",
          "height": 0
        },
        "id": "6cf60b3b",
        "outputId": "07ebbf1b-389d-4d0a-f33f-b270c312fd11"
      },
      "outputs": [
        {
          "output_type": "stream",
          "name": "stdout",
          "text": [
            "+----------+\n",
            "|Donor_City|\n",
            "+----------+\n",
            "|California|\n",
            "|California|\n",
            "|California|\n",
            "|California|\n",
            "|California|\n",
            "|California|\n",
            "+----------+\n",
            "\n"
          ]
        }
      ],
      "source": [
        "result = spark.sql(\"\"\" select Donor_City from donor where Donor_City='California' \"\"\")\n",
        "result.show()"
      ]
    },
    {
      "cell_type": "markdown",
      "id": "10516fb2-314d-420f-bc76-5c6a259fffa9",
      "metadata": {
        "id": "10516fb2-314d-420f-bc76-5c6a259fffa9"
      },
      "source": [
        "#### Ingestion des données et publication en temporary view du fichier Donations.CSV"
      ]
    },
    {
      "cell_type": "code",
      "execution_count": 24,
      "id": "32b0aa09-d58b-4c0b-b180-4679adf6ee2f",
      "metadata": {
        "id": "32b0aa09-d58b-4c0b-b180-4679adf6ee2f"
      },
      "outputs": [],
      "source": [
        "df_donations.createOrReplaceTempView(\"donations\")"
      ]
    },
    {
      "cell_type": "code",
      "execution_count": 25,
      "id": "0e5792e0",
      "metadata": {
        "colab": {
          "base_uri": "https://localhost:8080/",
          "height": 0
        },
        "id": "0e5792e0",
        "outputId": "64f39bef-a671-4b6d-a0de-36c2f4302895"
      },
      "outputs": [
        {
          "output_type": "stream",
          "name": "stdout",
          "text": [
            "+--------------------+--------------------+--------------------+-----------------------------------+---------------+-------------------+----------------------+\n",
            "|          Project ID|         Donation_ID|            Donor_ID|Donation_Included_Optional_Donation|Donation_Amount|Donor_Cart Sequence|Donation_Received_Date|\n",
            "+--------------------+--------------------+--------------------+-----------------------------------+---------------+-------------------+----------------------+\n",
            "|000009891526c0ade...|68872912085866622...|1f4b5b6e68445c6c4...|                                 No|         178.37|                 11|   2016-08-23 13:15:57|\n",
            "|000009891526c0ade...|dcf1071da3aa3561f...|4aaab6d244bf35996...|                                Yes|           25.0|                  2|   2016-06-06 20:05:23|\n",
            "|000009891526c0ade...|18a234b9d1e538c43...|0b0765dc9c759adc4...|                                Yes|           20.0|                  3|   2016-06-06 14:08:46|\n",
            "|000009891526c0ade...|38d2744bf9138b0b5...|377944ad61f72d800...|                                Yes|           25.0|                  1|   2016-05-15 10:23:04|\n",
            "|000009891526c0ade...|5a032791e31167a70...|6d5b22d39e68c6560...|                                Yes|           25.0|                  2|   2016-05-17 01:23:38|\n",
            "|000009891526c0ade...|8cea27f0cc03f41f6...|896c75c9b8d9a91c7...|                                Yes|           15.0|                  1|   2016-06-04 17:58:55|\n",
            "|00000ce845c00cbf0...|39af862cb04e4f938...|8a1875762c85932ff...|                                Yes|           50.0|                  1|   2013-02-27 09:07:51|\n",
            "|00000ce845c00cbf0...|c47f78571f62bcf10...|a3f070e439d52de72...|                                Yes|           50.0|                  2|   2013-02-27 09:53:12|\n",
            "|00000ce845c00cbf0...|19351e1d9ae0bccab...|bd323208dc78b1c74...|                                Yes|          200.0|                  2|   2013-02-17 21:36:24|\n",
            "|00000ce845c00cbf0...|d5364b1bb3b145948...|6dd6113f89f2766d3...|                                Yes|           10.0|                 44|   2013-02-27 10:32:22|\n",
            "|00000ce845c00cbf0...|84d4bd0c34c8c28f9...|391f14831940fc7bc...|                                Yes|          100.0|                  1|   2013-02-27 09:55:18|\n",
            "|00000ce845c00cbf0...|987eecef69373f0d7...|531ed26f1a5052823...|                                Yes|           25.0|                  1|   2013-02-27 09:57:57|\n",
            "|00000ce845c00cbf0...|72f8a2bf2a996b287...|499496888e927737a...|                                Yes|           50.0|                  1|   2013-02-27 10:56:48|\n",
            "|00002d44003ed46b0...|3dc5237cf215a2bdc...|3fa001f7a31563bb2...|                                Yes|           25.0|                  1|   2017-06-20 22:45:41|\n",
            "|00002d44003ed46b0...|3fb12c4ea45461531...|c77b27c9837573aae...|                                Yes|           20.0|                  1|   2017-07-05 12:19:02|\n",
            "|00002d44003ed46b0...|1abb69e9f91e80a4c...|43ca9835ccb5c7c24...|                                Yes|          100.0|                  2|   2017-06-28 22:56:05|\n",
            "|00002d44003ed46b0...|3f878f6ea8afe42b2...|6243c0acf1dc9a4d7...|                                Yes|           25.0|                  1|   2017-06-29 19:49:13|\n",
            "|00002d44003ed46b0...|7b28925a3c4c768da...|3fa001f7a31563bb2...|                                 No|         117.92|                  3|   2017-07-31 08:48:01|\n",
            "|00002d44003ed46b0...|aee61d191d3dcaf58...|3fa001f7a31563bb2...|                                 No|          250.0|                  2|   2017-07-30 23:16:53|\n",
            "|00002d44003ed46b0...|c40e75f11f570cd59...|344ad0a72366a27bd...|                                Yes|           10.0|                  9|   2017-07-24 08:40:35|\n",
            "+--------------------+--------------------+--------------------+-----------------------------------+---------------+-------------------+----------------------+\n",
            "only showing top 20 rows\n",
            "\n"
          ]
        }
      ],
      "source": [
        "df_donations.show()"
      ]
    },
    {
      "cell_type": "markdown",
      "id": "ac679bb0-f9ce-47e9-8017-76c7decab8d4",
      "metadata": {
        "id": "ac679bb0-f9ce-47e9-8017-76c7decab8d4"
      },
      "source": [
        "#### Afficher le DF"
      ]
    },
    {
      "cell_type": "code",
      "execution_count": 26,
      "id": "7b5eb96f-9d76-4a70-9adb-b3f2a613a7b8",
      "metadata": {
        "colab": {
          "base_uri": "https://localhost:8080/",
          "height": 0
        },
        "id": "7b5eb96f-9d76-4a70-9adb-b3f2a613a7b8",
        "outputId": "f805144f-4339-423d-9456-387211097e8d"
      },
      "outputs": [
        {
          "output_type": "stream",
          "name": "stdout",
          "text": [
            "+--------------------+--------------------+--------------------+-----------------------------------+---------------+-------------------+----------------------+\n",
            "|          Project ID|         Donation_ID|            Donor_ID|Donation_Included_Optional_Donation|Donation_Amount|Donor_Cart Sequence|Donation_Received_Date|\n",
            "+--------------------+--------------------+--------------------+-----------------------------------+---------------+-------------------+----------------------+\n",
            "|000009891526c0ade...|68872912085866622...|1f4b5b6e68445c6c4...|                                 No|         178.37|                 11|   2016-08-23 13:15:57|\n",
            "|000009891526c0ade...|dcf1071da3aa3561f...|4aaab6d244bf35996...|                                Yes|           25.0|                  2|   2016-06-06 20:05:23|\n",
            "|000009891526c0ade...|18a234b9d1e538c43...|0b0765dc9c759adc4...|                                Yes|           20.0|                  3|   2016-06-06 14:08:46|\n",
            "|000009891526c0ade...|38d2744bf9138b0b5...|377944ad61f72d800...|                                Yes|           25.0|                  1|   2016-05-15 10:23:04|\n",
            "|000009891526c0ade...|5a032791e31167a70...|6d5b22d39e68c6560...|                                Yes|           25.0|                  2|   2016-05-17 01:23:38|\n",
            "|000009891526c0ade...|8cea27f0cc03f41f6...|896c75c9b8d9a91c7...|                                Yes|           15.0|                  1|   2016-06-04 17:58:55|\n",
            "|00000ce845c00cbf0...|39af862cb04e4f938...|8a1875762c85932ff...|                                Yes|           50.0|                  1|   2013-02-27 09:07:51|\n",
            "|00000ce845c00cbf0...|c47f78571f62bcf10...|a3f070e439d52de72...|                                Yes|           50.0|                  2|   2013-02-27 09:53:12|\n",
            "|00000ce845c00cbf0...|19351e1d9ae0bccab...|bd323208dc78b1c74...|                                Yes|          200.0|                  2|   2013-02-17 21:36:24|\n",
            "|00000ce845c00cbf0...|d5364b1bb3b145948...|6dd6113f89f2766d3...|                                Yes|           10.0|                 44|   2013-02-27 10:32:22|\n",
            "|00000ce845c00cbf0...|84d4bd0c34c8c28f9...|391f14831940fc7bc...|                                Yes|          100.0|                  1|   2013-02-27 09:55:18|\n",
            "|00000ce845c00cbf0...|987eecef69373f0d7...|531ed26f1a5052823...|                                Yes|           25.0|                  1|   2013-02-27 09:57:57|\n",
            "|00000ce845c00cbf0...|72f8a2bf2a996b287...|499496888e927737a...|                                Yes|           50.0|                  1|   2013-02-27 10:56:48|\n",
            "|00002d44003ed46b0...|3dc5237cf215a2bdc...|3fa001f7a31563bb2...|                                Yes|           25.0|                  1|   2017-06-20 22:45:41|\n",
            "|00002d44003ed46b0...|3fb12c4ea45461531...|c77b27c9837573aae...|                                Yes|           20.0|                  1|   2017-07-05 12:19:02|\n",
            "|00002d44003ed46b0...|1abb69e9f91e80a4c...|43ca9835ccb5c7c24...|                                Yes|          100.0|                  2|   2017-06-28 22:56:05|\n",
            "|00002d44003ed46b0...|3f878f6ea8afe42b2...|6243c0acf1dc9a4d7...|                                Yes|           25.0|                  1|   2017-06-29 19:49:13|\n",
            "|00002d44003ed46b0...|7b28925a3c4c768da...|3fa001f7a31563bb2...|                                 No|         117.92|                  3|   2017-07-31 08:48:01|\n",
            "|00002d44003ed46b0...|aee61d191d3dcaf58...|3fa001f7a31563bb2...|                                 No|          250.0|                  2|   2017-07-30 23:16:53|\n",
            "|00002d44003ed46b0...|c40e75f11f570cd59...|344ad0a72366a27bd...|                                Yes|           10.0|                  9|   2017-07-24 08:40:35|\n",
            "+--------------------+--------------------+--------------------+-----------------------------------+---------------+-------------------+----------------------+\n",
            "only showing top 20 rows\n",
            "\n"
          ]
        }
      ],
      "source": [
        "df_donations.count()\n",
        "df_donations.show()"
      ]
    },
    {
      "cell_type": "markdown",
      "id": "126a65d6",
      "metadata": {
        "id": "126a65d6"
      },
      "source": [
        "#### Calculer le montant minimum, le montant maximum, le montant moyen en arrondissant à l'unité après la virgule de la colonne Donation_Amount\n",
        "pour l'ensemble Donations \n",
        "\n",
        "Utiliser les alias \"maxMontant\", \"minMontant\", \"avgMontant\". et la colonne \"Donation_Amount\"\n",
        "\n",
        "Pour rappel en SQL, un alias ressemble à ça : \"as maxMontant\"."
      ]
    },
    {
      "cell_type": "code",
      "execution_count": 27,
      "id": "7760d774",
      "metadata": {
        "colab": {
          "base_uri": "https://localhost:8080/",
          "height": 0
        },
        "id": "7760d774",
        "outputId": "922f0609-82f2-4360-cf1e-9ab4b90e1f9d"
      },
      "outputs": [
        {
          "output_type": "stream",
          "name": "stdout",
          "text": [
            "+----------+----------+-----------------+\n",
            "|maxMontant|minMontant|       avgMontant|\n",
            "+----------+----------+-----------------+\n",
            "|   9999.91|      0.01|60.72797862813836|\n",
            "+----------+----------+-----------------+\n",
            "\n"
          ]
        }
      ],
      "source": [
        "result = spark.sql(\"\"\" select Max(Donation_Amount) as maxMontant , MIN(Donation_Amount) as minMontant , AVG(Donation_Amount) as avgMontant from donations  \"\"\")\n",
        "result.show()"
      ]
    },
    {
      "cell_type": "markdown",
      "id": "84b958dd",
      "metadata": {
        "id": "84b958dd"
      },
      "source": [
        "utiliser juste 10% du dataset c'est très grand complet pour des jointures... avec la method `sample`"
      ]
    },
    {
      "cell_type": "code",
      "execution_count": 31,
      "id": "3166053a-eaf4-4bbb-a17f-7ccf40e30049",
      "metadata": {
        "id": "3166053a-eaf4-4bbb-a17f-7ccf40e30049"
      },
      "outputs": [],
      "source": [
        "donations_e = df_donations.sample(fraction=0.1, seed=3)\n",
        "donations_e.createOrReplaceTempView(\"donations_e\")"
      ]
    },
    {
      "cell_type": "markdown",
      "id": "333d4215-9ddd-4f3b-839f-4065e07db743",
      "metadata": {
        "tags": [],
        "id": "333d4215-9ddd-4f3b-839f-4065e07db743"
      },
      "source": [
        "#### Faites une jointure Entre le data set des donneurs Donors, et le dataset des Donations Donations\n",
        "\n",
        "Indication : utilisez \"inner join\" de langage spark.sql"
      ]
    },
    {
      "cell_type": "code",
      "execution_count": 37,
      "id": "8b6b613a-67a7-437e-aa73-8195534b9199",
      "metadata": {
        "colab": {
          "base_uri": "https://localhost:8080/",
          "height": 0
        },
        "id": "8b6b613a-67a7-437e-aa73-8195534b9199",
        "outputId": "6d8a92cf-f493-41fb-c38b-b9368b3896e3"
      },
      "outputs": [
        {
          "output_type": "stream",
          "name": "stdout",
          "text": [
            "+--------------------+----------------+--------------+----------------+---------+--------------------+--------------------+--------------------+--------------------+-----------------------------------+---------------+-------------------+----------------------+\n",
            "|            Donor_ID|      Donor_City|   Donor_State|Donor_Is_Teacher|Donor_Zip|            Address |          Project ID|         Donation_ID|            Donor_ID|Donation_Included_Optional_Donation|Donation_Amount|Donor_Cart Sequence|Donation_Received_Date|\n",
            "+--------------------+----------------+--------------+----------------+---------+--------------------+--------------------+--------------------+--------------------+-----------------------------------+---------------+-------------------+----------------------+\n",
            "|000eb10b7e8fb44e9...|      Manchester|   Connecticut|              No|      060|Manchester_Connec...|123050acb1743c4b8...|84928abc68304ea56...|000eb10b7e8fb44e9...|                                Yes|           25.0|                  2|   2018-02-22 13:26:13|\n",
            "|000feaeb375229fd7...|            null|      New York|              No|     null|                null|2a7e07530b5bd9d86...|5f88bd171fea927c5...|000feaeb375229fd7...|                                Yes|           35.0|                  4|   2013-10-13 09:12:35|\n",
            "|00412cae00ffac88b...|         Valrico|       Florida|              No|      335| Valrico_Florida_335|2d02a8d46a0585a35...|8d3eed357c46ff614...|00412cae00ffac88b...|                                Yes|           50.0|                  1|   2016-04-17 10:27:05|\n",
            "|00707db0c98dee9ae...|         Wendell|North Carolina|              No|      275|Wendell_North Car...|0a5383c4c08100ea6...|2566fcf56821808fc...|00707db0c98dee9ae...|                                Yes|           50.0|                  2|   2014-12-09 12:14:21|\n",
            "|007b83b86217021c8...|Colorado Springs|      Colorado|              No|      809|Colorado Springs_...|296e455684cc7ff6f...|cbfbb7b2c29654493...|007b83b86217021c8...|                                Yes|          150.0|                  1|   2014-02-18 10:06:30|\n",
            "|007b83b86217021c8...|Colorado Springs|      Colorado|              No|      809|Colorado Springs_...|2e0447c9fac054511...|3dcfbedc0cb796fb9...|007b83b86217021c8...|                                Yes|          100.0|                  2|   2014-09-15 17:21:57|\n",
            "|00807ca387d9eaea1...|            null|      Colorado|              No|     null|                null|0cc4d29dc0d28503d...|6db850d82acc32b7f...|00807ca387d9eaea1...|                                Yes|           25.0|                  1|   2014-09-02 22:21:00|\n",
            "|00972792194403adf...|         Midland|         Texas|              No|      797|   Midland_Texas_797|06cb73da1dae22f3c...|a1d4ad999229d3f63...|00972792194403adf...|                                Yes|          76.25|                  1|   2014-10-13 17:53:13|\n",
            "|00a56dc6094556dcc...|   New Palestine|       Indiana|              No|      461|New Palestine_Ind...|282ad541be2f4086a...|a731a19c93eea2f84...|00a56dc6094556dcc...|                                Yes|           50.0|                  2|   2016-05-11 08:15:08|\n",
            "|00a56dc6094556dcc...|   New Palestine|       Indiana|              No|      461|New Palestine_Ind...|3096c1a295c9960e7...|798cfbd6b9392c88d...|00a56dc6094556dcc...|                                Yes|          40.93|                  1|   2016-02-08 08:22:52|\n",
            "|00a9341989c294f07...|        El Cajon|    California|             Yes|      920|El Cajon_Californ...|2591a9511c575e905...|ad0316907f2a84c75...|00a9341989c294f07...|                                Yes|           20.0|                  6|   2016-03-10 20:51:57|\n",
            "|00a9341989c294f07...|        El Cajon|    California|             Yes|      920|El Cajon_Californ...|2591a9511c575e905...|b67d89925143090dc...|00a9341989c294f07...|                                Yes|          750.0|                  5|   2016-01-26 12:17:39|\n",
            "|00a9341989c294f07...|        El Cajon|    California|             Yes|      920|El Cajon_Californ...|2591a9511c575e905...|d0d30c4a78b3d0b10...|00a9341989c294f07...|                                Yes|           90.0|                  4|   2016-01-07 14:04:24|\n",
            "|00a9341989c294f07...|        El Cajon|    California|             Yes|      920|El Cajon_Californ...|327203cec0559e06a...|4d4f98da804882de6...|00a9341989c294f07...|                                 No|         156.25|                 14|   2016-10-03 17:34:58|\n",
            "|00a9341989c294f07...|        El Cajon|    California|             Yes|      920|El Cajon_Californ...|327203cec0559e06a...|49816f67f0a51218a...|00a9341989c294f07...|                                 No|           30.0|                 13|   2016-08-29 23:08:36|\n",
            "|00b7e1d1a7fbca92d...|        New York|      New York|              No|      100|New York_New York...|1c71814b1d43b8aa6...|67dfc15fb7f34ac42...|00b7e1d1a7fbca92d...|                                Yes|          32.13|                  2|   2016-03-11 17:12:04|\n",
            "|00c222e0437a1eff3...|           Tampa|       Florida|              No|      336|   Tampa_Florida_336|1e7123b1cb7b0e8bd...|18d5a22d8c24b55a9...|00c222e0437a1eff3...|                                Yes|          100.0|                  1|   2014-04-28 21:41:56|\n",
            "|00ccdbb28b10d8142...|     Canandaigua|      New York|              No|      144|Canandaigua_New Y...|2b80f39e6b42dc1d1...|b248f54507186eddc...|00ccdbb28b10d8142...|                                Yes|           60.0|                  1|   2017-03-12 23:54:23|\n",
            "|00fcfa7ad85fb9362...|           Omaha|      Nebraska|              No|      681|  Omaha_Nebraska_681|23044f30b74a14b79...|a7e20b83286000b82...|00fcfa7ad85fb9362...|                                Yes|           25.0|                  1|   2015-09-30 16:01:09|\n",
            "|01112c8652318ac56...|       Princeton|    New Jersey|              No|      085|Princeton_New Jer...|136d66951caeb747f...|53d072ba9fd6c9716...|01112c8652318ac56...|                                Yes|           23.0|                  1|   2015-04-11 22:30:13|\n",
            "+--------------------+----------------+--------------+----------------+---------+--------------------+--------------------+--------------------+--------------------+-----------------------------------+---------------+-------------------+----------------------+\n",
            "only showing top 20 rows\n",
            "\n"
          ]
        }
      ],
      "source": [
        "result = spark.sql(\"SELECT * FROM Donors INNER JOIN Donations ON Donors.Donor_id == Donations.Donor_id\")\n",
        "result.show()"
      ]
    },
    {
      "cell_type": "markdown",
      "id": "d3be07f0-1a82-47e9-8767-613d07a9e487",
      "metadata": {
        "id": "d3be07f0-1a82-47e9-8767-613d07a9e487"
      },
      "source": [
        "#### Calculez la somme de l'argent donnée par Les Professeurs (Donor Is Teacher=Yes) et les non professeurs utilisant seulement SQL\n",
        "\n",
        "Indication : ('select sum(dt.col4) as amountProf from donations dt inner join donors dr on dt.col2 = dr.col0 and dr.col3 = \"Yes\" ')"
      ]
    },
    {
      "cell_type": "code",
      "execution_count": 38,
      "id": "c48353b2-2e0a-4f8c-9afa-816718aade09",
      "metadata": {
        "colab": {
          "base_uri": "https://localhost:8080/",
          "height": 0
        },
        "id": "c48353b2-2e0a-4f8c-9afa-816718aade09",
        "outputId": "7a6537f2-0b39-4531-ab83-99be856fafc7"
      },
      "outputs": [
        {
          "output_type": "stream",
          "name": "stdout",
          "text": [
            "+------------------------------------+\n",
            "|sum(CAST(Donation_Amount AS DOUBLE))|\n",
            "+------------------------------------+\n",
            "|                  319888.66000000003|\n",
            "+------------------------------------+\n",
            "\n"
          ]
        }
      ],
      "source": [
        "result = spark.sql(\"\"\" select Sum(Donation_Amount) from donations_e INNER JOIN donor where donations_e.Donor_ID=donor.Donor_ID  \"\"\")\n",
        "result.show()"
      ]
    }
  ],
  "metadata": {
    "kernelspec": {
      "display_name": "Python 3 (ipykernel)",
      "language": "python",
      "name": "python3"
    },
    "language_info": {
      "codemirror_mode": {
        "name": "ipython",
        "version": 3
      },
      "file_extension": ".py",
      "mimetype": "text/x-python",
      "name": "python",
      "nbconvert_exporter": "python",
      "pygments_lexer": "ipython3",
      "version": "3.9.2"
    },
    "colab": {
      "name": "Mini projet à faire.ipynb",
      "provenance": [],
      "collapsed_sections": [],
      "include_colab_link": true
    }
  },
  "nbformat": 4,
  "nbformat_minor": 5
}